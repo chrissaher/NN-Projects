{
 "cells": [
  {
   "cell_type": "code",
   "execution_count": null,
   "metadata": {},
   "outputs": [],
   "source": [
    "from __future__ import print_function\n",
    "from image_helpers import *\n",
    "from conv_helpers import *\n",
    "import numpy as np\n",
    "import scipy.io\n",
    "import scipy.misc\n",
    "import matplotlib.pyplot as plt\n",
    "import tensorflow as tf\n",
    "%matplotlib inline"
   ]
  },
  {
   "cell_type": "code",
   "execution_count": null,
   "metadata": {},
   "outputs": [],
   "source": [
    "IMG_CONTENT = '../img/anime_content.jpg'\n",
    "IMG_STYLE = '../img/noodle_style.png'\n",
    "IMG_WIDTH = 360\n",
    "IMG_HEIGHT = 360\n",
    "IMG_CHANNEL = 3\n",
    "\n",
    "img_content = scipy.misc.imread(IMG_CONTENT)\n",
    "img_content = reshape_and_normalize_image(img_content, IMG_WIDTH, IMG_HEIGHT)\n",
    "# \n",
    "\n",
    "img_style = scipy.misc.imread(IMG_STYLE)\n",
    "img_style = reshape_and_normalize_image(img_style, IMG_WIDTH,IMG_HEIGHT)\n",
    "\n",
    "img_generated = generate_noise_image(img_content, IMG_HEIGHT, IMG_WIDTH, IMG_CHANNEL)\n",
    "# img_generated = (np.random.rand(1, IMG_HEIGHT, IMG_WIDTH, IMG_CHANNEL) * 255).astype(int)\n"
   ]
  },
  {
   "cell_type": "code",
   "execution_count": null,
   "metadata": {
    "collapsed": true
   },
   "outputs": [],
   "source": [
    "# noise_ratio = 0.6\n",
    "\n",
    "# noise_image = np.random.uniform(0, 40, (1, IMG_HEIGHT, IMG_WIDTH, IMG_CHANNEL)).astype('float32')\n",
    "    \n",
    "# img_generated = (noise_image * noise_ratio + img_content * (1 - noise_ratio)).astype(int)\n",
    "\n",
    "# img_generated\n",
    "\n",
    "# img_generated = (np.random.rand(1, IMG_HEIGHT, IMG_WIDTH, IMG_CHANNEL) * 255).astype(int)\n",
    "\n",
    "# plt.imshow(img_generated[0])"
   ]
  },
  {
   "cell_type": "code",
   "execution_count": null,
   "metadata": {},
   "outputs": [],
   "source": [
    "def show_images(img_content = img_content,\n",
    "                img_style = img_style,\n",
    "                img_generated = img_generated):\n",
    "    fig, ax = plt.subplots(nrows = 1, ncols=3, figsize=(10,10))\n",
    "    ax[0].imshow(img_content[0])\n",
    "    ax[0].set_title(\"CONTENT\")\n",
    "    ax[1].imshow(img_style[0])\n",
    "    ax[1].set_title(\"STYLE\")\n",
    "    ax[2].imshow(img_generated[0])\n",
    "    ax[2].set_title(\"GENERATED\")\n",
    "    plt.show()\n",
    "show_images()"
   ]
  },
  {
   "cell_type": "code",
   "execution_count": null,
   "metadata": {
    "collapsed": true
   },
   "outputs": [],
   "source": [
    "def content_cost(con, gen):\n",
    "    \"\"\"\n",
    "    Calculate the content cost of the generated picture.\n",
    "    \n",
    "    Parameters\n",
    "    ----------\n",
    "    con: 3d tensor\n",
    "         The content tensor image.\n",
    "    \n",
    "    gen: 3d tensor\n",
    "         The generated tensor image.\n",
    "    \"\"\"\n",
    "    m, nw, nh, nc = gen.get_shape().as_list()\n",
    "    con_flatten = tf.reshape(con, [-1])\n",
    "    gen_flatten = tf.reshape(gen, [-1])\n",
    "    J_content = tf.reduce_sum((con_flatten - gen_flatten)**2 / (4 * nw * nh * nc))\n",
    "    return J_content\n"
   ]
  },
  {
   "cell_type": "code",
   "execution_count": null,
   "metadata": {},
   "outputs": [],
   "source": [
    "tf.reset_default_graph()\n",
    "\n",
    "with tf.Session() as test:\n",
    "    tf.set_random_seed(1)\n",
    "    a_C = tf.random_normal([1, 4, 4, 3], mean=1, stddev=4)\n",
    "    a_G = tf.random_normal([1, 4, 4, 3], mean=1, stddev=4)\n",
    "    J_content = content_cost(a_C, a_G)\n",
    "    print(\"J_content = \" + str(J_content.eval()))\n"
   ]
  },
  {
   "cell_type": "code",
   "execution_count": null,
   "metadata": {
    "collapsed": true
   },
   "outputs": [],
   "source": [
    "def gram_matrix(A):\n",
    "    \"\"\"\n",
    "    Calculate the gram matrix of a given input.\n",
    "    \n",
    "    Parameters\n",
    "    ----------\n",
    "    A: tensor\n",
    "       The tensor for calculating the gram matrix.\n",
    "       \n",
    "    Reference\n",
    "    ---------\n",
    "    https://en.wikipedia.org/wiki/Gramian_matrix\n",
    "    \"\"\"\n",
    "    return tf.matmul(A, tf.transpose(A))"
   ]
  },
  {
   "cell_type": "code",
   "execution_count": null,
   "metadata": {},
   "outputs": [],
   "source": [
    "tf.reset_default_graph()\n",
    "\n",
    "with tf.Session() as test:\n",
    "    tf.set_random_seed(1)\n",
    "    A = tf.random_normal([3, 2*1], mean=1, stddev=4)\n",
    "    GA = gram_matrix(A)\n",
    "    \n",
    "    print(\"GA = \" + str(GA.eval()))"
   ]
  },
  {
   "cell_type": "code",
   "execution_count": null,
   "metadata": {
    "collapsed": true
   },
   "outputs": [],
   "source": [
    "def style_cost(sty, gen):\n",
    "    \"\"\"\n",
    "    Calculate the style cost of a single layer the generated picture.\n",
    "    \n",
    "    Parameters\n",
    "    ----------\n",
    "    sty: 3d tensor\n",
    "         The style tensor image.\n",
    "    \n",
    "    gen: 3d tensor\n",
    "         The generated tensor image.\n",
    "    \"\"\"\n",
    "    m, nw, nh, nc = gen.get_shape().as_list()\n",
    "    sty_res = tf.transpose(tf.reshape(sty, (nw * nh, nc)))\n",
    "    gen_res = tf.transpose(tf.reshape(gen, (nw * nh, nc)))\n",
    "    gm_sty = gram_matrix(sty_res)\n",
    "    gm_gen = gram_matrix(gen_res)\n",
    "    sty_flatten = tf.reshape(gm_sty, [-1])\n",
    "    gen_flatten = tf.reshape(gm_gen, [-1])\n",
    "    J_style = tf.reduce_sum((sty_flatten - gen_flatten)**2 / (4 * nc**2 * (nh * nw)**2))\n",
    "    return J_style"
   ]
  },
  {
   "cell_type": "code",
   "execution_count": null,
   "metadata": {},
   "outputs": [],
   "source": [
    "tf.reset_default_graph()\n",
    "\n",
    "with tf.Session() as test:\n",
    "    tf.set_random_seed(1)\n",
    "    a_S = tf.random_normal([1, 4, 4, 3], mean=1, stddev=4)\n",
    "    a_G = tf.random_normal([1, 4, 4, 3], mean=1, stddev=4)\n",
    "    J_style_layer = style_cost(a_S, a_G)\n",
    "    \n",
    "    print(\"J_style_layer = \" + str(J_style_layer.eval()))"
   ]
  },
  {
   "cell_type": "code",
   "execution_count": null,
   "metadata": {},
   "outputs": [],
   "source": [
    "STYLE_LAYERS = [\n",
    "    ('conv1', 0.2),\n",
    "    ('conv2', 0.2),\n",
    "    ('conv3', 0.2),\n",
    "    ('conv4', 0.2),\n",
    "    ('conv5', 0.2)]"
   ]
  },
  {
   "cell_type": "code",
   "execution_count": null,
   "metadata": {},
   "outputs": [],
   "source": [
    "def full_style_cost(model, sess = tf.get_default_session(), STYLE_LAYERS=STYLE_LAYERS):\n",
    "    J_style = 0\n",
    "    \n",
    "    for layer_name, cost in STYLE_LAYERS:\n",
    "        out = model[layer_name]\n",
    "        a_S = sess.run(out)\n",
    "        a_G = out\n",
    "        \n",
    "        J_style_layer = style_cost(a_S, a_G)\n",
    "        J_style += cost * J_style_layer\n",
    "        \n",
    "    return J_style"
   ]
  },
  {
   "cell_type": "code",
   "execution_count": null,
   "metadata": {
    "collapsed": true
   },
   "outputs": [],
   "source": [
    "def total_cost(J_content, J_style, alpha = 10, beta = 40):\n",
    "    \"\"\"\n",
    "    Calculate the total cost of neural style transfer.\n",
    "    \n",
    "    Parameters\n",
    "    ----------\n",
    "    J_content: float\n",
    "        The content cost.\n",
    "    \n",
    "    J_style: float\n",
    "        The style cost.\n",
    "    \n",
    "    alpha: double\n",
    "        Hyperparameter. J_content weight.\n",
    "        \n",
    "    beta: double\n",
    "        Hyperparameter. J_style weight.\n",
    "    \"\"\"\n",
    "    J = alpha * J_content + beta * J_style\n",
    "    return J"
   ]
  },
  {
   "cell_type": "code",
   "execution_count": null,
   "metadata": {},
   "outputs": [],
   "source": [
    "tf.reset_default_graph()\n",
    "\n",
    "with tf.Session() as test:\n",
    "    np.random.seed(3)\n",
    "    J_content = np.random.randn()    \n",
    "    J_style = np.random.randn()\n",
    "    J = total_cost(J_content, J_style)\n",
    "    print(\"J = \" + str(J))"
   ]
  },
  {
   "cell_type": "code",
   "execution_count": null,
   "metadata": {
    "collapsed": true
   },
   "outputs": [],
   "source": [
    "# Hyperparameters\n",
    "learning_rate = 0.001\n",
    "num_classes = 1000\n",
    "dropout_rate = 0.5\n",
    "batch_size = 1"
   ]
  },
  {
   "cell_type": "code",
   "execution_count": null,
   "metadata": {
    "collapsed": true
   },
   "outputs": [],
   "source": [
    "# tf.reset_default_graph()\n",
    "# x = tf.placeholder(tf.float32, [batch_size, 360, 360, 3])\n",
    "# x = tf.Variable(np.zeros((1, IMG_HEIGHT, IMG_WIDTH, 3)), dtype='float32')\n",
    "# keep_prob = tf.placeholder(tf.float32)"
   ]
  },
  {
   "cell_type": "code",
   "execution_count": null,
   "metadata": {
    "collapsed": true
   },
   "outputs": [],
   "source": []
  },
  {
   "cell_type": "code",
   "execution_count": null,
   "metadata": {},
   "outputs": [],
   "source": []
  },
  {
   "cell_type": "code",
   "execution_count": null,
   "metadata": {},
   "outputs": [],
   "source": [
    "tf.reset_default_graph()\n",
    "model = export_graph(IMG_WIDTH, IMG_HEIGHT, IMG_CHANNEL)\n",
    "sess = tf.InteractiveSession()\n",
    "sess.run(model['input'].assign(img_content))\n",
    "out = model['conv4']\n",
    "a_C = sess.run(out)\n",
    "a_G = out\n",
    "J_content = content_cost(a_C, a_G)\n",
    "print(type(a_G), type(a_C), type(J_content))"
   ]
  },
  {
   "cell_type": "code",
   "execution_count": null,
   "metadata": {},
   "outputs": [],
   "source": [
    "sess.run(model['input'].assign(img_style))\n",
    "J_style = full_style_cost(model, sess=sess)\n",
    "J_style"
   ]
  },
  {
   "cell_type": "code",
   "execution_count": null,
   "metadata": {},
   "outputs": [],
   "source": [
    "J = total_cost(J_content, J_style)\n",
    "J"
   ]
  },
  {
   "cell_type": "code",
   "execution_count": null,
   "metadata": {},
   "outputs": [],
   "source": [
    "optimizer = tf.train.AdamOptimizer(2.0)\n",
    "train_step = optimizer.minimize(J)"
   ]
  },
  {
   "cell_type": "code",
   "execution_count": null,
   "metadata": {},
   "outputs": [],
   "source": [
    "def train(input_image, model = model, sess = tf.get_default_session(), num_iter=200):\n",
    "    sess.run(tf.global_variables_initializer())\n",
    "    sess.run(model['input'].assign(input_image))\n",
    "    \n",
    "    for i in range(num_iter):\n",
    "        _ = sess.run(train_step)\n",
    "        generated_image = sess.run(model['input'])\n",
    "        \n",
    "        if i % 20 == 0:\n",
    "            jt, jc, js = sess.run([J, J_content, J_style])\n",
    "            print(\"Iteration: \", i)\n",
    "            print(\"Total cost: \", str(jt))\n",
    "            print(\"Content cost: \", str(jc))\n",
    "            print(\"Style cost: \", str(js))\n",
    "            \n",
    "            save_image(\"output/\" + str(i) + \".png\", generated_image)\n",
    "            \n",
    "    save_image('generated_image.jpg', generated_image)\n",
    "    \n",
    "    return generated_image"
   ]
  },
  {
   "cell_type": "code",
   "execution_count": null,
   "metadata": {},
   "outputs": [],
   "source": [
    "result = train(img_generated, model, sess, num_iter=800)"
   ]
  },
  {
   "cell_type": "code",
   "execution_count": null,
   "metadata": {},
   "outputs": [],
   "source": [
    "show_images(img_generated = result.astype(int))"
   ]
  },
  {
   "cell_type": "code",
   "execution_count": null,
   "metadata": {},
   "outputs": [],
   "source": []
  },
  {
   "cell_type": "code",
   "execution_count": null,
   "metadata": {
    "collapsed": true
   },
   "outputs": [],
   "source": []
  }
 ],
 "metadata": {
  "kernelspec": {
   "display_name": "Python 3",
   "language": "python",
   "name": "python3"
  },
  "language_info": {
   "codemirror_mode": {
    "name": "ipython",
    "version": 3
   },
   "file_extension": ".py",
   "mimetype": "text/x-python",
   "name": "python",
   "nbconvert_exporter": "python",
   "pygments_lexer": "ipython3",
   "version": "3.6.3"
  }
 },
 "nbformat": 4,
 "nbformat_minor": 2
}
