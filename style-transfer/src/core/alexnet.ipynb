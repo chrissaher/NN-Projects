{
 "cells": [
  {
   "cell_type": "code",
   "execution_count": 1,
   "metadata": {
    "collapsed": true
   },
   "outputs": [],
   "source": [
    "import numpy as np\n",
    "import tensorflow as tf\n",
    "\n",
    "import skimage.io\n",
    "from skimage.transform import resize\n",
    "import matplotlib.pyplot as plt\n",
    "%matplotlib inline"
   ]
  },
  {
   "cell_type": "code",
   "execution_count": 111,
   "metadata": {
    "collapsed": true
   },
   "outputs": [],
   "source": [
    "data = np.load(open(\"bvlc_alexnet.npy\", \"rb\"), encoding=\"bytes\").item()"
   ]
  },
  {
   "cell_type": "code",
   "execution_count": 124,
   "metadata": {
    "collapsed": true
   },
   "outputs": [],
   "source": [
    "def weights(layer_name):\n",
    "    layer = data[layer_name]\n",
    "    W = layer[0]\n",
    "    b = layer[1]\n",
    "    return W, b"
   ]
  },
  {
   "cell_type": "code",
   "execution_count": 166,
   "metadata": {
    "collapsed": true
   },
   "outputs": [],
   "source": [
    "def conv2d(prev_layer, layer_name, strides=[1,1,1,1], groups = 1, relu = True):\n",
    "    W, b = weights(layer_name)\n",
    "    W = tf.constant(W)\n",
    "    b = tf.constant(np.reshape(b, (b.size)))\n",
    "    \n",
    "    convolve = lambda prev, w: tf.nn.conv2d(prev, w, strides, padding='SAME')\n",
    "    \n",
    "    if groups == 1:\n",
    "        conv = convolve(prev_layer, W)\n",
    "    else:\n",
    "        input_groups = tf.split(axis=3, num_or_size_splits=groups, value=prev_layer)\n",
    "        weight_groups = tf.split(axis=3, num_or_size_splits=groups, value=W)\n",
    "        output_groups = [convolve(prev, w) for (prev, w) in zip(input_groups, weight_groups)]\n",
    "        \n",
    "        conv = tf.concat(axis=3, values=output_groups)\n",
    "    \n",
    "    \n",
    "    conv_bias = tf.nn.bias_add(conv, b)\n",
    "    if relu == True:\n",
    "        return tf.nn.relu(conv_bias)\n",
    "    return conv"
   ]
  },
  {
   "cell_type": "code",
   "execution_count": 192,
   "metadata": {
    "collapsed": true
   },
   "outputs": [],
   "source": [
    "def maxpool(prev_layer):\n",
    "    return tf.nn.max_pool(prev_layer, ksize=[1, 2, 2, 1], strides=[1, 2, 2, 1], padding='SAME')"
   ]
  },
  {
   "cell_type": "code",
   "execution_count": 187,
   "metadata": {},
   "outputs": [],
   "source": [
    "def export_graph(IMG_WIDTH, IMG_HEIGHT, IMG_CHANNEL):\n",
    "    graph = dict()\n",
    "    graph['input'] = tf.Variable(np.zeros((1, IMG_HEIGHT, IMG_WIDTH, IMG_CHANNEL)), dtype=tf.float32)\n",
    "\n",
    "    graph['conv1'] = conv2d(graph['input'], 'conv1', strides=[1,4,4,1])\n",
    "    graph['pool1'] = maxpool(graph['conv1'])\n",
    "    \n",
    "    graph['conv2'] = conv2d(graph['pool1'], 'conv2', groups=2)\n",
    "    graph['pool2'] = maxpool(graph['conv2'])\n",
    "    \n",
    "    graph['conv3'] = conv2d(graph['pool2'], 'conv3')\n",
    "    graph['pool3'] = maxpool(graph['conv3'])\n",
    "    \n",
    "    graph['conv4'] = conv2d(graph['pool3'], 'conv4', groups=2)\n",
    "    graph['pool4'] = maxpool(graph['conv4'])\n",
    "    \n",
    "    graph['conv5'] = conv2d(graph['pool4'], 'conv5', groups=2)\n",
    "    return graph"
   ]
  },
  {
   "cell_type": "code",
   "execution_count": 188,
   "metadata": {},
   "outputs": [
    {
     "data": {
      "text/plain": [
       "'\\nconv1 (11, 11, 3, 96) (96,)\\nconv2 (5, 5, 48, 256) (256,)\\nconv3 (3, 3, 256, 384) (384,)\\nconv4 (3, 3, 192, 384) (384,)\\nconv5 (3, 3, 192, 256) (256,)\\n'"
      ]
     },
     "execution_count": 188,
     "metadata": {},
     "output_type": "execute_result"
    }
   ],
   "source": [
    "graph = export_graph(360, 360, 3)\n",
    "'''\n",
    "conv1 (11, 11, 3, 96) (96,)\n",
    "conv2 (5, 5, 48, 256) (256,)\n",
    "conv3 (3, 3, 256, 384) (384,)\n",
    "conv4 (3, 3, 192, 384) (384,)\n",
    "conv5 (3, 3, 192, 256) (256,)\n",
    "'''"
   ]
  },
  {
   "cell_type": "code",
   "execution_count": 191,
   "metadata": {},
   "outputs": [
    {
     "data": {
      "text/plain": [
       "{'conv1': <tf.Tensor 'Relu_21:0' shape=(1, 90, 90, 96) dtype=float32>,\n",
       " 'conv2': <tf.Tensor 'Relu_22:0' shape=(1, 45, 45, 256) dtype=float32>,\n",
       " 'conv3': <tf.Tensor 'Relu_23:0' shape=(1, 23, 23, 384) dtype=float32>,\n",
       " 'conv4': <tf.Tensor 'Relu_24:0' shape=(1, 12, 12, 384) dtype=float32>,\n",
       " 'conv5': <tf.Tensor 'Relu_25:0' shape=(1, 6, 6, 256) dtype=float32>,\n",
       " 'input': <tensorflow.python.ops.variables.Variable at 0x1c23b28da0>,\n",
       " 'pool1': <tf.Tensor 'MaxPool_19:0' shape=(1, 45, 45, 96) dtype=float32>,\n",
       " 'pool2': <tf.Tensor 'MaxPool_20:0' shape=(1, 23, 23, 256) dtype=float32>,\n",
       " 'pool3': <tf.Tensor 'MaxPool_21:0' shape=(1, 12, 12, 384) dtype=float32>,\n",
       " 'pool4': <tf.Tensor 'MaxPool_22:0' shape=(1, 6, 6, 384) dtype=float32>}"
      ]
     },
     "execution_count": 191,
     "metadata": {},
     "output_type": "execute_result"
    }
   ],
   "source": [
    "graph"
   ]
  },
  {
   "cell_type": "code",
   "execution_count": null,
   "metadata": {
    "collapsed": true
   },
   "outputs": [],
   "source": []
  },
  {
   "cell_type": "code",
   "execution_count": null,
   "metadata": {
    "collapsed": true
   },
   "outputs": [],
   "source": []
  },
  {
   "cell_type": "code",
   "execution_count": 2,
   "metadata": {
    "collapsed": true
   },
   "outputs": [],
   "source": [
    "def conv(x, filter_height, filter_width, num_filters, stride_y, stride_x, name,\n",
    "         padding='SAME', groups=1):\n",
    "    \n",
    "    # Get number of input channels\n",
    "    input_channels = int(x.get_shape()[-1])\n",
    "\n",
    "    # Create lambda function for the convolution\n",
    "    convolve = lambda i, k: tf.nn.conv2d(i, k,\n",
    "                                         strides = [1, stride_y, stride_x, 1],\n",
    "                                         padding = padding)\n",
    "\n",
    "    with tf.variable_scope(name) as scope:\n",
    "        # Create tf variables for the weights and biases of the conv layer\n",
    "        weights = tf.get_variable('weights',\n",
    "                                  shape = [filter_height, filter_width,\n",
    "                                           input_channels/groups, num_filters])\n",
    "        biases = tf.get_variable('biases', shape = [num_filters])\n",
    "\n",
    "        if groups == 1:\n",
    "            conv = convolve(x, weights)\n",
    "\n",
    "        # In the cases of multiple groups, split inputs & weights and\n",
    "        else:\n",
    "            # Split input and weights and convolve them separately\n",
    "            input_groups = tf.split(axis = 3, num_or_size_splits=groups, value=x)\n",
    "            weight_groups = tf.split(axis = 3, num_or_size_splits=groups, value=weights)\n",
    "            output_groups = [convolve(i, k) for i,k in zip(input_groups, weight_groups)]\n",
    "\n",
    "            # Concat the convolved output together again\n",
    "            conv = tf.concat(axis = 3, values = output_groups)\n",
    "\n",
    "        # Add biases\n",
    "        bias = tf.reshape(tf.nn.bias_add(conv, biases), tf.shape(conv))\n",
    "\n",
    "        # Apply relu function\n",
    "        relu = tf.nn.relu(bias, name = scope.name)\n",
    "        \n",
    "        return relu"
   ]
  },
  {
   "cell_type": "code",
   "execution_count": 3,
   "metadata": {
    "collapsed": true
   },
   "outputs": [],
   "source": [
    "def fc(x, num_in, num_out, name, relu = True):\n",
    "    with tf.variable_scope(name) as scope:\n",
    "        # Create tf variables for the weights and biases\n",
    "        weights = tf.get_variable('weights', shape=[num_in, num_out], trainable=True)\n",
    "        biases = tf.get_variable('biases', [num_out], trainable=True)\n",
    "\n",
    "        # Matrix multiply weights and inputs and add bias\n",
    "        act = tf.nn.xw_plus_b(x, weights, biases, name=scope.name)\n",
    "    \n",
    "        if relu == True:\n",
    "            # Apply ReLu non linearity\n",
    "            relu = tf.nn.relu(act)\n",
    "            return relu\n",
    "        else:\n",
    "            return act"
   ]
  },
  {
   "cell_type": "code",
   "execution_count": 4,
   "metadata": {
    "collapsed": true
   },
   "outputs": [],
   "source": [
    "def max_pool(x, filter_height, filter_width, stride_y, stride_x,\n",
    "             name, padding='SAME'):\n",
    "    return tf.nn.max_pool(x, ksize=[1, filter_height, filter_width, 1],\n",
    "                          strides = [1, stride_y, stride_x, 1],\n",
    "                          padding = padding, name = name)"
   ]
  },
  {
   "cell_type": "code",
   "execution_count": 5,
   "metadata": {
    "collapsed": true
   },
   "outputs": [],
   "source": [
    "def lrn(x, radius, alpha, beta, name, bias=1.0):\n",
    "    return tf.nn.local_response_normalization(x, depth_radius = radius,\n",
    "                                              alpha = alpha, beta = beta,\n",
    "                                              bias = bias, name = name)"
   ]
  },
  {
   "cell_type": "code",
   "execution_count": 6,
   "metadata": {
    "collapsed": true
   },
   "outputs": [],
   "source": [
    "def dropout(x, keep_prob):\n",
    "    return tf.nn.dropout(x, keep_prob)"
   ]
  },
  {
   "cell_type": "code",
   "execution_count": 75,
   "metadata": {},
   "outputs": [],
   "source": [
    "class AlexNet(object):\n",
    "    \n",
    "    def __init__(self, x, keep_prob, num_classes, weights_path = 'DEFAULT'):\n",
    "        \"\"\"\n",
    "        Inputs:\n",
    "        - x: tf.placeholder, for the input images\n",
    "        - keep_prob: tf.placeholder, for the dropout rate\n",
    "        - num_classes: int, number of classes of the new dataset\n",
    "        - skip_layer: list of strings, names of the layers you want to reinitialize\n",
    "        - weights_path: path string, path to the pretrained weights,\n",
    "                        (if bvlc_alexnet.npy is not in the same folder)\n",
    "        \"\"\"\n",
    "        # Parse input arguments\n",
    "        self.X = x\n",
    "        self.NUM_CLASSES = num_classes\n",
    "        self.KEEP_PROB = keep_prob\n",
    "\n",
    "        if weights_path == 'DEFAULT':\n",
    "            self.WEIGHTS_PATH = 'bvlc_alexnet.npy'\n",
    "        else:\n",
    "            self.WEIGHTS_PATH = weights_path\n",
    "\n",
    "        # Call the create function to build the computational graph of AlexNet\n",
    "        self.create()\n",
    "\n",
    "    def create(self):\n",
    "        \n",
    "        # 1st Layer: Conv (w ReLu) -> Lrn -> Pool\n",
    "        conv1 = conv(self.X, 11, 11, 96, 4, 4, padding='VALID', name='conv1')\n",
    "        norm1 = lrn(conv1, 2, 1e-05, 0.75, name='norm1')\n",
    "        pool1 = max_pool(norm1, 3, 3, 2, 2, padding='VALID', name='pool1')\n",
    "        \n",
    "        # 2nd Layer: Conv (w ReLu)  -> Lrn -> Pool with 2 groups\n",
    "        conv2 = conv(pool1, 5, 5, 256, 1, 1, groups=2, name='conv2')\n",
    "        norm2 = lrn(conv2, 2, 1e-05, 0.75, name='norm2')\n",
    "        pool2 = max_pool(norm2, 3, 3, 2, 2, padding='VALID', name='pool2')\n",
    "        \n",
    "        # 3rd Layer: Conv (w ReLu)\n",
    "        conv3 = conv(pool2, 3, 3, 384, 1, 1, name='conv3')\n",
    "\n",
    "        # 4th Layer: Conv (w ReLu) splitted into two groups\n",
    "        conv4 = conv(conv3, 3, 3, 384, 1, 1, groups=2, name='conv4')\n",
    "\n",
    "        # 5th Layer: Conv (w ReLu) -> Pool splitted into two groups\n",
    "        conv5 = conv(conv4, 3, 3, 256, 1, 1, groups=2, name='conv5')\n",
    "        pool5 = max_pool(conv5, 3, 3, 2, 2, padding='VALID', name='pool5')\n",
    "\n",
    "        # 6th Layer: Flatten -> FC (w ReLu) -> Dropout\n",
    "        sz = int(np.prod(pool5.get_shape()[1:]))\n",
    "        flattened = tf.reshape(pool5, [-1, sz])\n",
    "        fc6 = fc(flattened, sz, 4096, name='fc6')\n",
    "        dropout6 = dropout(fc6, self.KEEP_PROB)\n",
    "\n",
    "        # 7th Layer: FC (w ReLu) -> Dropout\n",
    "        fc7 = fc(dropout6, 4096, 4096, name = 'fc7')\n",
    "        dropout7 = dropout(fc7, self.KEEP_PROB)\n",
    "\n",
    "        # 8th Layer: FC and return unscaled activations\n",
    "        # (for tf.nn.softmax_cross_entropy_with_logits)\n",
    "        fc8 = fc(dropout7, 4096, self.NUM_CLASSES, relu = False, name='fc8')\n",
    "        \n",
    "        # For future model\n",
    "        self.input = self.X\n",
    "        self.conv1 = conv1\n",
    "        self.conv2 = conv2\n",
    "        self.conv3 = conv3\n",
    "        self.conv4 = conv4\n",
    "        self.conv5 = conv5\n",
    "        self.fc6 = fc6\n",
    "        self.fc7 = fc7\n",
    "        self.fc8 = fc8\n",
    "\n",
    "    def load_initial_weights(self):\n",
    "        \n",
    "        # Load the weights into memory\n",
    "        weights_dict = np.load(self.WEIGHTS_PATH, encoding = 'bytes').item()\n",
    "\n",
    "        # Loop over all layer names stored in the weights dict\n",
    "        for op_name in weights_dict:\n",
    "\n",
    "            with tf.variable_scope(op_name, reuse = True):\n",
    "\n",
    "                # Loop over list of weights/biases and assign them to their corresponding tf variable\n",
    "                for data in weights_dict[op_name]:\n",
    "\n",
    "                    # Biases\n",
    "                    if len(data.shape) == 1:\n",
    "                        var = tf.get_variable('biases', trainable = False)\n",
    "                        session.run(var.assign(data))\n",
    "                    # Weights\n",
    "                    else:\n",
    "                        var = tf.get_variable('weights', trainable = False)\n",
    "                        session.run(var.assign(data))\n",
    "                        \n",
    "    def export(self):\n",
    "        model = dict()\n",
    "        model['input'] = self.input\n",
    "        model['conv1'] = self.conv1\n",
    "        model['conv2'] = self.conv2\n",
    "        model['conv3'] = self.conv3\n",
    "        model['conv4'] = self.conv4\n",
    "        model['conv5'] = self.conv5\n",
    "        model['fc6'] = self.fc6\n",
    "        model['fc7'] = self.fc7\n",
    "        model['fc8'] = self.fc8\n",
    "        return model"
   ]
  },
  {
   "cell_type": "code",
   "execution_count": 76,
   "metadata": {},
   "outputs": [
    {
     "name": "stderr",
     "output_type": "stream",
     "text": [
      "/Users/christian/anaconda3/lib/python3.6/site-packages/skimage/transform/_warps.py:84: UserWarning: The default mode, 'constant', will be changed to 'reflect' in skimage 0.15.\n",
      "  warn(\"The default mode, 'constant', will be changed to 'reflect' in \"\n"
     ]
    }
   ],
   "source": [
    "# Path for training \n",
    "train_file = './llama.jpeg'\n",
    "\n",
    "# Hyperparameters\n",
    "learning_rate = 0.001\n",
    "num_classes = 1000\n",
    "dropout_rate = 0.5\n",
    "batch_size = 1\n",
    "\n",
    "img_train = skimage.io.imread(train_file)\n",
    "img_train = resize(img_train, (360,360))"
   ]
  },
  {
   "cell_type": "code",
   "execution_count": 77,
   "metadata": {
    "collapsed": true
   },
   "outputs": [],
   "source": [
    "tf.reset_default_graph()\n",
    "x = tf.placeholder(tf.float32, [batch_size, 360, 360, 3])\n",
    "y = tf.placeholder(tf.float32, [batch_size, num_classes])\n",
    "keep_prob = tf.placeholder(tf.float32)"
   ]
  },
  {
   "cell_type": "code",
   "execution_count": 78,
   "metadata": {},
   "outputs": [],
   "source": [
    "model = AlexNet(x, keep_prob, num_classes)\n",
    "score = model.fc8"
   ]
  },
  {
   "cell_type": "code",
   "execution_count": 79,
   "metadata": {},
   "outputs": [],
   "source": [
    "with tf.Session() as sess:\n",
    "    sess.run(tf.global_variables_initializer())\n",
    "    s = sess.run(score, feed_dict={x:[img_train], keep_prob:dropout_rate})"
   ]
  },
  {
   "cell_type": "code",
   "execution_count": 80,
   "metadata": {},
   "outputs": [],
   "source": [
    "out = model.conv4"
   ]
  },
  {
   "cell_type": "code",
   "execution_count": 81,
   "metadata": {},
   "outputs": [],
   "source": [
    "with tf.Session() as sess:\n",
    "    sess.run(tf.global_variables_initializer())\n",
    "    o = sess.run(out, feed_dict={x:[img_train], keep_prob:dropout_rate})"
   ]
  },
  {
   "cell_type": "code",
   "execution_count": 82,
   "metadata": {},
   "outputs": [
    {
     "name": "stdout",
     "output_type": "stream",
     "text": [
      "(1, 1000) (1, 21, 21, 384)\n"
     ]
    }
   ],
   "source": [
    "print(s.shape, o.shape)"
   ]
  },
  {
   "cell_type": "code",
   "execution_count": 97,
   "metadata": {},
   "outputs": [
    {
     "name": "stdout",
     "output_type": "stream",
     "text": [
      "11 96\n"
     ]
    }
   ],
   "source": [
    "w = data['conv1'][0]\n",
    "b = data['conv1'][1]\n",
    "print(len(w), len(b))"
   ]
  },
  {
   "cell_type": "code",
   "execution_count": 100,
   "metadata": {},
   "outputs": [
    {
     "name": "stdout",
     "output_type": "stream",
     "text": [
      "(11, 11, 3, 96) (96,)\n"
     ]
    }
   ],
   "source": [
    "print(w.shape, b.shape)"
   ]
  },
  {
   "cell_type": "code",
   "execution_count": 105,
   "metadata": {},
   "outputs": [
    {
     "data": {
      "text/plain": [
       "dict_keys(['fc6', 'fc7', 'fc8', 'conv3', 'conv2', 'conv1', 'conv5', 'conv4'])"
      ]
     },
     "execution_count": 105,
     "metadata": {},
     "output_type": "execute_result"
    }
   ],
   "source": [
    "data.keys()"
   ]
  },
  {
   "cell_type": "code",
   "execution_count": 107,
   "metadata": {},
   "outputs": [
    {
     "name": "stdout",
     "output_type": "stream",
     "text": [
      "fc6 (9216, 4096) (4096,)\n",
      "fc7 (4096, 4096) (4096,)\n",
      "fc8 (4096, 1000) (1000,)\n",
      "conv3 (3, 3, 256, 384) (384,)\n",
      "conv2 (5, 5, 48, 256) (256,)\n",
      "conv1 (11, 11, 3, 96) (96,)\n",
      "conv5 (3, 3, 192, 256) (256,)\n",
      "conv4 (3, 3, 192, 384) (384,)\n"
     ]
    }
   ],
   "source": [
    "for key in data.keys():\n",
    "    layer = data[key]\n",
    "    w = layer[0]\n",
    "    b = layer[1]\n",
    "    print(key, w.shape, b.shape)"
   ]
  },
  {
   "cell_type": "code",
   "execution_count": null,
   "metadata": {
    "collapsed": true
   },
   "outputs": [],
   "source": []
  }
 ],
 "metadata": {
  "kernelspec": {
   "display_name": "Python 3",
   "language": "python",
   "name": "python3"
  },
  "language_info": {
   "codemirror_mode": {
    "name": "ipython",
    "version": 3
   },
   "file_extension": ".py",
   "mimetype": "text/x-python",
   "name": "python",
   "nbconvert_exporter": "python",
   "pygments_lexer": "ipython3",
   "version": "3.6.3"
  }
 },
 "nbformat": 4,
 "nbformat_minor": 2
}
